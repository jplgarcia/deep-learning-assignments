{
  "cells": [
    {
      "cell_type": "markdown",
      "metadata": {
        "colab_type": "text",
        "id": "view-in-github"
      },
      "source": [
        "<a href=\"https://colab.research.google.com/github/udlbook/udlbook/blob/main/Notebooks/Chap07/7_2_Backpropagation.ipynb\" target=\"_parent\"><img src=\"https://colab.research.google.com/assets/colab-badge.svg\" alt=\"Open In Colab\"/></a>"
      ]
    },
    {
      "cell_type": "markdown",
      "metadata": {
        "id": "L6chybAVFJW2"
      },
      "source": [
        "# **Notebook 7.2: Backpropagation**\n",
        "\n",
        "This notebook runs the backpropagation algorithm on a deep neural network as described in section 7.4 of the book.\n",
        "\n",
        "Work through the cells below, running each cell in turn. In various places you will see the words \"TO DO\". Follow the instructions at these places and make predictions about what is going to happen or write code to complete the functions.\n",
        "\n",
        "Contact me at udlbookmail@gmail.com if you find any mistakes or have any suggestions."
      ]
    },
    {
      "cell_type": "code",
      "execution_count": 336,
      "metadata": {
        "id": "LdIDglk1FFcG"
      },
      "outputs": [],
      "source": [
        "import numpy as np\n",
        "import matplotlib.pyplot as plt"
      ]
    },
    {
      "cell_type": "markdown",
      "metadata": {
        "id": "nnUoI0m6GyjC"
      },
      "source": [
        "First let's define a neural network.  We'll just choose the weights and biases randomly for now"
      ]
    },
    {
      "cell_type": "code",
      "execution_count": 337,
      "metadata": {
        "id": "WVM4Tc_jGI0Q"
      },
      "outputs": [],
      "source": [
        "# Set seed so we always get the same random numbers\n",
        "np.random.seed(0)\n",
        "\n",
        "# Number of layers\n",
        "K = 5\n",
        "# Number of neurons per layer\n",
        "D = 6\n",
        "# Input layer\n",
        "D_i = 1\n",
        "# Output layer\n",
        "D_o = 1\n",
        "\n",
        "# Make empty lists\n",
        "all_weights = [None] * (K+1)\n",
        "all_biases = [None] * (K+1)\n",
        "\n",
        "# Create input and output layers\n",
        "all_weights[0] = np.random.normal(size=(D, D_i))\n",
        "all_weights[-1] = np.random.normal(size=(D_o, D))\n",
        "all_biases[0] = np.random.normal(size =(D,1))\n",
        "all_biases[-1]= np.random.normal(size =(D_o,1))\n",
        "\n",
        "# Create intermediate layers\n",
        "for layer in range(1,K):\n",
        "  all_weights[layer] = np.random.normal(size=(D,D))\n",
        "  all_biases[layer] = np.random.normal(size=(D,1))"
      ]
    },
    {
      "cell_type": "code",
      "execution_count": 338,
      "metadata": {
        "id": "jZh-7bPXIDq4"
      },
      "outputs": [],
      "source": [
        "# Define the Rectified Linear Unit (ReLU) function\n",
        "def ReLU(preactivation):\n",
        "  activation = preactivation.clip(0.0)\n",
        "  return activation"
      ]
    },
    {
      "cell_type": "markdown",
      "metadata": {
        "id": "5irtyxnLJSGX"
      },
      "source": [
        "Now let's run our random network.  The weight matrices $\\boldsymbol\\Omega_{1\\ldots K}$ are the entries of the list \"all_weights\" and the biases $\\boldsymbol\\beta_{1\\ldots k}$ are the entries of the list \"all_biases\"\n",
        "\n",
        "We know that we will need the activations $\\mathbf{f}_{0\\ldots K}$ and the activations $\\mathbf{h}_{1\\ldots K}$ for the forward pass of backpropagation, so we'll store and return these as well.\n"
      ]
    },
    {
      "cell_type": "code",
      "execution_count": 339,
      "metadata": {
        "id": "LgquJUJvJPaN"
      },
      "outputs": [],
      "source": [
        "def compute_network_output(net_input, all_weights, all_biases):\n",
        "\n",
        "  # Retrieve number of layers\n",
        "  K = len(all_weights) -1\n",
        "\n",
        "  # We'll store the pre-activations at each layer in a list \"all_f\"\n",
        "  # and the activations in a second list[all_h].\n",
        "  all_f = [None] * (K+1)\n",
        "  all_h = [None] * (K+1)\n",
        "\n",
        "  #For convenience, we'll set\n",
        "  # all_h[0] to be the input, and all_f[K] will be the output\n",
        "  all_h[0] = net_input\n",
        "\n",
        "  # Run through the layers, calculating all_f[0...K-1] and all_h[1...K]\n",
        "  for layer in range(K):\n",
        "      # Update preactivations and activations at this layer according to eqn 7.16\n",
        "      # Remmember to use np.matmul for matrrix multiplications\n",
        "      # TODO -- Replace the lines below\n",
        "      all_f[layer] = all_biases[layer] + np.matmul(all_weights[layer], all_h[layer])\n",
        "      all_h[layer+1] = ReLU(all_f[layer])\n",
        "\n",
        "  # Compute the output from the last hidden layer\n",
        "  # TO DO -- Replace the line below\n",
        "  all_f[K] = all_biases[K] + np.matmul(all_weights[K], all_h[K])\n",
        "\n",
        "  # Retrieve the output\n",
        "  net_output = all_f[K]\n",
        "\n",
        "  return net_output, all_f, all_h"
      ]
    },
    {
      "cell_type": "code",
      "execution_count": 340,
      "metadata": {
        "id": "IN6w5m2ZOhnB"
      },
      "outputs": [
        {
          "name": "stdout",
          "output_type": "stream",
          "text": [
            "True output = 1.907, Your answer = 1.907\n"
          ]
        }
      ],
      "source": [
        "# Define in input\n",
        "net_input = np.ones((D_i,1)) * 1.2\n",
        "# Compute network output\n",
        "net_output, all_f, all_h = compute_network_output(net_input,all_weights, all_biases)\n",
        "print(\"True output = %3.3f, Your answer = %3.3f\"%(1.907, net_output[0,0]))\n"
      ]
    },
    {
      "cell_type": "markdown",
      "metadata": {
        "id": "SxVTKp3IcoBF"
      },
      "source": [
        "Now let's define a loss function.  We'll just use the least squares loss function. We'll also write a function to compute dloss_doutput"
      ]
    },
    {
      "cell_type": "code",
      "execution_count": 341,
      "metadata": {
        "id": "6XqWSYWJdhQR"
      },
      "outputs": [],
      "source": [
        "def least_squares_loss(net_output, y):\n",
        "  return np.sum((net_output-y) * (net_output-y))\n",
        "\n",
        "def d_loss_d_output(net_output, y):\n",
        "    return 2*(net_output -y);"
      ]
    },
    {
      "cell_type": "code",
      "execution_count": 342,
      "metadata": {
        "id": "njF2DUQmfttR"
      },
      "outputs": [
        {
          "name": "stdout",
          "output_type": "stream",
          "text": [
            "y = 20.000 Loss = 327.371\n"
          ]
        },
        {
          "name": "stderr",
          "output_type": "stream",
          "text": [
            "/var/folders/b2/xg8329j50lggt263jywktrk80000gn/T/ipykernel_16039/3361061389.py:3: DeprecationWarning: Conversion of an array with ndim > 0 to a scalar is deprecated, and will error in future. Ensure you extract a single element from your array before performing this operation. (Deprecated NumPy 1.25.)\n",
            "  print(\"y = %3.3f Loss = %3.3f\"%(y, loss))\n"
          ]
        }
      ],
      "source": [
        "y = np.ones((D_o,1)) * 20.0\n",
        "loss = least_squares_loss(net_output, y)\n",
        "print(\"y = %3.3f Loss = %3.3f\"%(y, loss))"
      ]
    },
    {
      "cell_type": "markdown",
      "metadata": {
        "id": "98WmyqFYWA-0"
      },
      "source": [
        "Now let's compute the derivatives of the network.  We already computed the forward pass.  Let's compute the backward pass."
      ]
    },
    {
      "cell_type": "code",
      "execution_count": 372,
      "metadata": {
        "id": "LJng7WpRPLMz"
      },
      "outputs": [],
      "source": [
        "# We'll need the indicator function\n",
        "def indicator_function(x):\n",
        "  x_in = np.array(x)\n",
        "  x_in[x_in>=0] = 1\n",
        "  x_in[x_in<0] = 0\n",
        "  return x_in\n",
        "\n",
        "# Main backward pass routine\n",
        "def backward_pass(all_weights, all_biases, all_f, all_h, y):\n",
        "  # We'll store the derivatives dl_dweights and dl_dbiases in lists as well\n",
        "  all_dl_dweights = [None] * (K+1)\n",
        "  all_dl_dbiases = [None] * (K+1)\n",
        "  # And we'll store the derivatives of the loss with respect to the activation and preactivations in lists\n",
        "  all_dl_df = [None] * (K+1)\n",
        "  all_dl_dh = [None] * (K+1)\n",
        "  # Again for convenience we'll stick with the convention that all_h[0] is the net input and all_f[k] in the net output\n",
        "\n",
        "  # Compute derivatives of the loss with respect to the network output\n",
        "  all_dl_df[K] = np.array(d_loss_d_output(all_f[K],y))\n",
        "\n",
        "  # Now work backwards through the network\n",
        "  for layer in range(K,-1,-1):\n",
        "    # TODO Calculate the derivatives of the loss with respect to the biases at layer this from all_dl_df[layer]. (eq 7.21)\n",
        "    # NOTE!  To take a copy of matrix X, use Z=np.array(X)\n",
        "    # REPLACE THIS LINE\n",
        "    all_dl_dbiases[layer] = np.array(all_dl_df[layer]) # np.zeros_like(all_biases[layer])\n",
        "\n",
        "    # TODO Calculate the derivatives of the loss with respect to the weights at layer from all_dl_df[layer] and all_h[layer] (eq 7.22)\n",
        "    # Don't forget to use np.matmul\n",
        "    # REPLACE THIS LINE\n",
        "    print(all_dl_df[layer], all_h[layer].transpose())\n",
        "    all_dl_dweights[layer] = np.matmul(all_dl_df[layer], all_h[layer].transpose())\n",
        "\n",
        "    # TODO: calculate the derivatives of the loss with respect to the activations from weight and derivatives of next preactivations (second part of last line of eq 7.24)\n",
        "    # REPLACE THIS LINE\n",
        "    all_dl_dh[layer] = np.matmul(all_weights[layer].transpose(), all_dl_df[layer]) #np.zeros_like(all_h[layer])\n",
        "\n",
        "\n",
        "    if layer > 0:\n",
        "      # TODO Calculate the derivatives of the loss with respect to the pre-activation f (use deriv of ReLu function, first part of last line of eq. 7.24)\n",
        "      # REPLACE THIS LINE\n",
        "      all_dl_df[layer-1] = np.array(d_loss_d_output(all_f[layer-1],y))\n",
        "\n",
        "  return all_dl_dweights, all_dl_dbiases"
      ]
    },
    {
      "cell_type": "code",
      "execution_count": 373,
      "metadata": {
        "id": "9A9MHc4sQvbp"
      },
      "outputs": [
        {
          "name": "stdout",
          "output_type": "stream",
          "text": [
            "[[-36.187]] [[ 0.     0.     0.     0.    11.063  0.   ]]\n",
            "[[-54.446]\n",
            " [-81.413]\n",
            " [-68.655]\n",
            " [-69.634]\n",
            " [-17.874]\n",
            " [-81.605]] [[ 0.    15.662  9.427  0.     4.222  1.946]]\n",
            "[[-43.761]\n",
            " [ -8.677]\n",
            " [-21.147]\n",
            " [-42.305]\n",
            " [-31.556]\n",
            " [-36.107]] [[0.    0.    0.765 0.    8.939 2.291]]\n",
            "[[-48.436]\n",
            " [-49.274]\n",
            " [-38.469]\n",
            " [-59.881]\n",
            " [-22.123]\n",
            " [-35.417]] [[0.    5.727 0.    0.    3.353 0.   ]]\n",
            "[[-45.335]\n",
            " [-28.546]\n",
            " [-45.634]\n",
            " [-52.74 ]\n",
            " [-33.294]\n",
            " [-54.303]] [[2.878 0.602 1.618 3.023 3.735 0.   ]]\n",
            "[[-34.244]\n",
            " [-38.796]\n",
            " [-36.763]\n",
            " [-33.955]\n",
            " [-32.53 ]\n",
            " [-42.756]] [[1.2]]\n",
            "[array([[-41.093],\n",
            "       [-46.556],\n",
            "       [-44.116],\n",
            "       [-40.745],\n",
            "       [-39.036],\n",
            "       [-51.307]]), array([[-130.47 ,  -27.286,  -73.368, -137.037, -169.333,    0.   ],\n",
            "       [ -82.152,  -17.181,  -46.197,  -86.287, -106.623,    0.   ],\n",
            "       [-131.329,  -27.465,  -73.851, -137.939, -170.448,    0.   ],\n",
            "       [-151.779,  -31.742,  -85.351, -159.419, -196.99 ,    0.   ],\n",
            "       [ -95.818,  -20.039,  -53.882, -100.64 , -124.359,    0.   ],\n",
            "       [-156.278,  -32.683,  -87.881, -164.143, -202.829,    0.   ]]), array([[   0.   , -277.399,    0.   ,    0.   , -162.4  ,    0.   ],\n",
            "       [   0.   , -282.194,    0.   ,    0.   , -165.207,    0.   ],\n",
            "       [   0.   , -220.316,    0.   ,    0.   , -128.982,    0.   ],\n",
            "       [   0.   , -342.944,    0.   ,    0.   , -200.773,    0.   ],\n",
            "       [   0.   , -126.699,    0.   ,    0.   ,  -74.174,    0.   ],\n",
            "       [   0.   , -202.838,    0.   ,    0.   , -118.749,    0.   ]]), array([[   0.   ,    0.   ,  -33.496,    0.   , -391.162, -100.272],\n",
            "       [   0.   ,    0.   ,   -6.642,    0.   ,  -77.56 ,  -19.882],\n",
            "       [   0.   ,    0.   ,  -16.187,    0.   , -189.025,  -48.455],\n",
            "       [   0.   ,    0.   ,  -32.382,    0.   , -378.153,  -96.937],\n",
            "       [   0.   ,    0.   ,  -24.154,    0.   , -282.069,  -72.307],\n",
            "       [   0.   ,    0.   ,  -27.638,    0.   , -322.749,  -82.735]]), array([[    0.   ,  -852.714,  -513.241,     0.   ,  -229.869,  -105.974],\n",
            "       [    0.   , -1275.049,  -767.44 ,     0.   ,  -343.719,  -158.462],\n",
            "       [    0.   , -1075.239,  -647.177,     0.   ,  -289.855,  -133.629],\n",
            "       [    0.   , -1090.579,  -656.41 ,     0.   ,  -293.991,  -135.536],\n",
            "       [    0.   ,  -279.938,  -168.492,     0.   ,   -75.464,   -34.79 ],\n",
            "       [    0.   , -1278.054,  -769.249,     0.   ,  -344.529,  -158.835]]), array([[   0.  ,    0.  ,    0.  ,    0.  , -400.33,    0.  ]])] [array([[-34.244],\n",
            "       [-38.796],\n",
            "       [-36.763],\n",
            "       [-33.955],\n",
            "       [-32.53 ],\n",
            "       [-42.756]]), array([[-45.335],\n",
            "       [-28.546],\n",
            "       [-45.634],\n",
            "       [-52.74 ],\n",
            "       [-33.294],\n",
            "       [-54.303]]), array([[-48.436],\n",
            "       [-49.274],\n",
            "       [-38.469],\n",
            "       [-59.881],\n",
            "       [-22.123],\n",
            "       [-35.417]]), array([[-43.761],\n",
            "       [ -8.677],\n",
            "       [-21.147],\n",
            "       [-42.305],\n",
            "       [-31.556],\n",
            "       [-36.107]]), array([[-54.446],\n",
            "       [-81.413],\n",
            "       [-68.655],\n",
            "       [-69.634],\n",
            "       [-17.874],\n",
            "       [-81.605]]), array([[-36.187]])]\n"
          ]
        }
      ],
      "source": [
        "\n",
        "all_dl_dweights, all_dl_dbiases = backward_pass(all_weights, all_biases, all_f, all_h, y)\n",
        "print(all_dl_dweights, all_dl_dbiases)"
      ]
    },
    {
      "cell_type": "code",
      "execution_count": 369,
      "metadata": {
        "id": "PK-UtE3hreAK"
      },
      "outputs": [
        {
          "name": "stdout",
          "output_type": "stream",
          "text": [
            "-----------------------------------------------\n",
            "Bias 0, derivatives from backprop:\n",
            "[[-34.244]\n",
            " [-38.796]\n",
            " [-36.763]\n",
            " [-33.955]\n",
            " [-32.53 ]\n",
            " [-42.756]]\n",
            "Bias 0, derivatives from finite differences\n",
            "[[ -4.486]\n",
            " [  4.947]\n",
            " [  6.812]\n",
            " [ -3.883]\n",
            " [-24.935]\n",
            " [  0.   ]]\n",
            "Failure!  Derivatives different.\n",
            "-----------------------------------------------\n",
            "Bias 1, derivatives from backprop:\n",
            "[[-45.335]\n",
            " [-28.546]\n",
            " [-45.634]\n",
            " [-52.74 ]\n",
            " [-33.294]\n",
            " [-54.303]]\n",
            "Bias 1, derivatives from finite differences\n",
            "[[  0.   ]\n",
            " [-11.297]\n",
            " [  0.   ]\n",
            " [  0.   ]\n",
            " [-10.722]\n",
            " [  0.   ]]\n",
            "Failure!  Derivatives different.\n",
            "-----------------------------------------------\n",
            "Bias 2, derivatives from backprop:\n",
            "[[-48.436]\n",
            " [-49.274]\n",
            " [-38.469]\n",
            " [-59.881]\n",
            " [-22.123]\n",
            " [-35.417]]\n",
            "Bias 2, derivatives from finite differences\n",
            "[[ 0.   ]\n",
            " [ 0.   ]\n",
            " [ 0.938]\n",
            " [ 0.   ]\n",
            " [-9.993]\n",
            " [ 0.508]]\n",
            "Failure!  Derivatives different.\n",
            "-----------------------------------------------\n",
            "Bias 3, derivatives from backprop:\n",
            "[[-43.761]\n",
            " [ -8.677]\n",
            " [-21.147]\n",
            " [-42.305]\n",
            " [-31.556]\n",
            " [-36.107]]\n",
            "Bias 3, derivatives from finite differences\n",
            "[[ 0.   ]\n",
            " [-4.8  ]\n",
            " [-1.661]\n",
            " [ 0.   ]\n",
            " [ 3.393]\n",
            " [ 5.391]]\n",
            "Failure!  Derivatives different.\n",
            "-----------------------------------------------\n",
            "Bias 4, derivatives from backprop:\n",
            "[[-54.446]\n",
            " [-81.413]\n",
            " [-68.655]\n",
            " [-69.634]\n",
            " [-17.874]\n",
            " [-81.605]]\n",
            "Bias 4, derivatives from finite differences\n",
            "[[ 0.   ]\n",
            " [ 0.   ]\n",
            " [ 0.   ]\n",
            " [ 0.   ]\n",
            " [-5.212]\n",
            " [ 0.   ]]\n",
            "Failure!  Derivatives different.\n",
            "-----------------------------------------------\n",
            "Weight 0, derivatives from backprop:\n",
            "[[-41.093]\n",
            " [-46.556]\n",
            " [-44.116]\n",
            " [-40.745]\n",
            " [-39.036]\n",
            " [-51.307]]\n",
            "Weight 0, derivatives from finite differences\n",
            "[[ -5.383]\n",
            " [  5.937]\n",
            " [  8.174]\n",
            " [ -4.66 ]\n",
            " [-29.922]\n",
            " [  0.   ]]\n",
            "Failure!  Derivatives different.\n",
            "-----------------------------------------------\n",
            "Weight 1, derivatives from backprop:\n",
            "[[-130.47   -27.286  -73.368 -137.037 -169.333    0.   ]\n",
            " [ -82.152  -17.181  -46.197  -86.287 -106.623    0.   ]\n",
            " [-131.329  -27.465  -73.851 -137.939 -170.448    0.   ]\n",
            " [-151.779  -31.742  -85.351 -159.419 -196.99     0.   ]\n",
            " [ -95.818  -20.039  -53.882 -100.64  -124.359    0.   ]\n",
            " [-156.278  -32.683  -87.881 -164.143 -202.829    0.   ]]\n",
            "Weight 1, derivatives from finite differences\n",
            "[[  0.      0.      0.      0.      0.      0.   ]\n",
            " [-32.511  -6.799 -18.282 -34.148 -42.196   0.   ]\n",
            " [  0.      0.      0.      0.      0.      0.   ]\n",
            " [  0.      0.      0.      0.      0.      0.   ]\n",
            " [-30.856  -6.453 -17.352 -32.409 -40.047   0.   ]\n",
            " [  0.      0.      0.      0.      0.      0.   ]]\n",
            "Failure!  Derivatives different.\n",
            "-----------------------------------------------\n",
            "Weight 2, derivatives from backprop:\n",
            "[[   0.    -277.399    0.       0.    -162.4      0.   ]\n",
            " [   0.    -282.194    0.       0.    -165.207    0.   ]\n",
            " [   0.    -220.316    0.       0.    -128.982    0.   ]\n",
            " [   0.    -342.944    0.       0.    -200.773    0.   ]\n",
            " [   0.    -126.699    0.       0.     -74.174    0.   ]\n",
            " [   0.    -202.838    0.       0.    -118.749    0.   ]]\n",
            "Weight 2, derivatives from finite differences\n",
            "[[  0.      0.      0.      0.      0.      0.   ]\n",
            " [  0.      0.      0.      0.      0.      0.   ]\n",
            " [  0.      5.371   0.      0.      3.145   0.   ]\n",
            " [  0.      0.      0.      0.      0.      0.   ]\n",
            " [  0.    -57.233   0.      0.    -33.506   0.   ]\n",
            " [  0.      2.907   0.      0.      1.702   0.   ]]\n",
            "Failure!  Derivatives different.\n",
            "-----------------------------------------------\n",
            "Weight 3, derivatives from backprop:\n",
            "[[   0.       0.     -33.496    0.    -391.162 -100.272]\n",
            " [   0.       0.      -6.642    0.     -77.56   -19.882]\n",
            " [   0.       0.     -16.187    0.    -189.025  -48.455]\n",
            " [   0.       0.     -32.382    0.    -378.153  -96.937]\n",
            " [   0.       0.     -24.154    0.    -282.069  -72.307]\n",
            " [   0.       0.     -27.638    0.    -322.749  -82.735]]\n",
            "Weight 3, derivatives from finite differences\n",
            "[[  0.      0.      0.      0.      0.      0.   ]\n",
            " [  0.      0.     -3.674   0.    -42.905 -10.998]\n",
            " [  0.      0.     -1.272   0.    -14.85   -3.807]\n",
            " [  0.      0.      0.      0.      0.      0.   ]\n",
            " [  0.      0.      2.597   0.     30.333   7.776]\n",
            " [  0.      0.      4.126   0.     48.188  12.353]]\n",
            "Failure!  Derivatives different.\n",
            "-----------------------------------------------\n",
            "Weight 4, derivatives from backprop:\n",
            "[[    0.     -852.714  -513.241     0.     -229.869  -105.974]\n",
            " [    0.    -1275.049  -767.44      0.     -343.719  -158.462]\n",
            " [    0.    -1075.239  -647.177     0.     -289.855  -133.629]\n",
            " [    0.    -1090.579  -656.41      0.     -293.991  -135.536]\n",
            " [    0.     -279.938  -168.492     0.      -75.464   -34.79 ]\n",
            " [    0.    -1278.054  -769.249     0.     -344.529  -158.835]]\n",
            "Weight 4, derivatives from finite differences\n",
            "[[  0.      0.      0.      0.      0.      0.   ]\n",
            " [  0.      0.      0.      0.      0.      0.   ]\n",
            " [  0.      0.      0.      0.      0.      0.   ]\n",
            " [  0.      0.      0.      0.      0.      0.   ]\n",
            " [  0.    -81.635 -49.136   0.    -22.007 -10.146]\n",
            " [  0.      0.      0.      0.      0.      0.   ]]\n",
            "Failure!  Derivatives different.\n"
          ]
        }
      ],
      "source": [
        "np.set_printoptions(precision=3)\n",
        "# Make space for derivatives computed by finite differences\n",
        "all_dl_dweights_fd = [None] * (K+1)\n",
        "all_dl_dbiases_fd = [None] * (K+1)\n",
        "\n",
        "# Let's test if we have the derivatives right using finite differences\n",
        "delta_fd = 0.000001\n",
        "\n",
        "# Test the dervatives of the bias vectors\n",
        "for layer in range(K):\n",
        "  dl_dbias  = np.zeros_like(all_dl_dbiases[layer])\n",
        "  # For every element in the bias\n",
        "  for row in range(all_biases[layer].shape[0]):\n",
        "    # Take copy of biases  We'll change one element each time\n",
        "    all_biases_copy = [np.array(x) for x in all_biases]\n",
        "    all_biases_copy[layer][row] += delta_fd\n",
        "    network_output_1, *_ = compute_network_output(net_input, all_weights, all_biases_copy)\n",
        "    network_output_2, *_ = compute_network_output(net_input, all_weights, all_biases)\n",
        "    dl_dbias[row] = (least_squares_loss(network_output_1, y) - least_squares_loss(network_output_2,y)) / delta_fd\n",
        "  all_dl_dbiases_fd[layer] = np.array(dl_dbias)\n",
        "  print(\"-----------------------------------------------\")\n",
        "  print(\"Bias %d, derivatives from backprop:\"%(layer))\n",
        "  print(all_dl_dbiases[layer])\n",
        "  print(\"Bias %d, derivatives from finite differences\"%(layer))\n",
        "  print(all_dl_dbiases_fd[layer])\n",
        "  if np.allclose(all_dl_dbiases_fd[layer],all_dl_dbiases[layer],rtol=1e-05, atol=1e-08, equal_nan=False):\n",
        "    print(\"Success!  Derivatives match.\")\n",
        "  else:\n",
        "    print(\"Failure!  Derivatives different.\")\n",
        "\n",
        "\n",
        "\n",
        "# Test the derivatives of the weights matrices\n",
        "for layer in range(K):\n",
        "  dl_dweight  = np.zeros_like(all_dl_dweights[layer])\n",
        "  # For every element in the bias\n",
        "  for row in range(all_weights[layer].shape[0]):\n",
        "    for col in range(all_weights[layer].shape[1]):\n",
        "      # Take copy of biases  We'll change one element each time\n",
        "      all_weights_copy = [np.array(x) for x in all_weights]\n",
        "      all_weights_copy[layer][row][col] += delta_fd\n",
        "      network_output_1, *_ = compute_network_output(net_input, all_weights_copy, all_biases)\n",
        "      network_output_2, *_ = compute_network_output(net_input, all_weights, all_biases)\n",
        "      dl_dweight[row][col] = (least_squares_loss(network_output_1, y) - least_squares_loss(network_output_2,y))/delta_fd\n",
        "  all_dl_dweights_fd[layer] = np.array(dl_dweight)\n",
        "  print(\"-----------------------------------------------\")\n",
        "  print(\"Weight %d, derivatives from backprop:\"%(layer))\n",
        "  print(all_dl_dweights[layer])\n",
        "  print(\"Weight %d, derivatives from finite differences\"%(layer))\n",
        "  print(all_dl_dweights_fd[layer])\n",
        "  if np.allclose(all_dl_dweights_fd[layer],all_dl_dweights[layer],rtol=1e-05, atol=1e-08, equal_nan=False):\n",
        "    print(\"Success!  Derivatives match.\")\n",
        "  else:\n",
        "    print(\"Failure!  Derivatives different.\")"
      ]
    }
  ],
  "metadata": {
    "colab": {
      "authorship_tag": "ABX9TyM2kkHLr00J4Jeypw41sTkQ",
      "include_colab_link": true,
      "provenance": []
    },
    "kernelspec": {
      "display_name": "Python 3",
      "name": "python3"
    },
    "language_info": {
      "codemirror_mode": {
        "name": "ipython",
        "version": 3
      },
      "file_extension": ".py",
      "mimetype": "text/x-python",
      "name": "python",
      "nbconvert_exporter": "python",
      "pygments_lexer": "ipython3",
      "version": "3.12.2"
    }
  },
  "nbformat": 4,
  "nbformat_minor": 0
}
