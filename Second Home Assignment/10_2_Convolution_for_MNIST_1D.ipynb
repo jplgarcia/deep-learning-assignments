{
  "cells": [
    {
      "cell_type": "markdown",
      "metadata": {
        "colab_type": "text",
        "id": "view-in-github"
      },
      "source": [
        "<a href=\"https://colab.research.google.com/github/udlbook/udlbook/blob/main/Notebooks/Chap10/10_2_Convolution_for_MNIST_1D.ipynb\" target=\"_parent\"><img src=\"https://colab.research.google.com/assets/colab-badge.svg\" alt=\"Open In Colab\"/></a>"
      ]
    },
    {
      "cell_type": "markdown",
      "metadata": {
        "id": "t9vk9Elugvmi"
      },
      "source": [
        "# **Notebook 10.2: Convolution for MNIST-1D**\n",
        "\n",
        "This notebook investigates a 1D convolutional network for MNIST-1D as in figure 10.7 and 10.8a.\n",
        "\n",
        "Work through the cells below, running each cell in turn. In various places you will see the words \"TO DO\". Follow the instructions at these places and make predictions about what is going to happen or write code to complete the functions.\n",
        "\n",
        "Contact me at udlbookmail@gmail.com if you find any mistakes or have any suggestions.\n",
        "\n"
      ]
    },
    {
      "cell_type": "code",
      "execution_count": 26,
      "metadata": {
        "id": "D5yLObtZCi9J"
      },
      "outputs": [
        {
          "name": "stdout",
          "output_type": "stream",
          "text": [
            "fatal: destination path 'mnist1d' already exists and is not an empty directory.\n"
          ]
        }
      ],
      "source": [
        "# Run this if you're in a Colab to make a local copy of the MNIST 1D repository\n",
        "!git clone https://github.com/greydanus/mnist1d"
      ]
    },
    {
      "cell_type": "code",
      "execution_count": 27,
      "metadata": {
        "id": "YrXWAH7sUWvU"
      },
      "outputs": [],
      "source": [
        "import numpy as np\n",
        "import os\n",
        "import torch, torch.nn as nn\n",
        "from torch.utils.data import TensorDataset, DataLoader\n",
        "from torch.optim.lr_scheduler import StepLR\n",
        "import matplotlib.pyplot as plt\n",
        "import mnist1d\n",
        "import random"
      ]
    },
    {
      "cell_type": "code",
      "execution_count": 28,
      "metadata": {
        "id": "twI72ZCrCt5z"
      },
      "outputs": [
        {
          "name": "stdout",
          "output_type": "stream",
          "text": [
            "Successfully loaded data from ./mnist1d_data.pkl\n",
            "Examples in training set: 4000\n",
            "Examples in test set: 1000\n",
            "Length of each example: 40\n"
          ]
        }
      ],
      "source": [
        "args = mnist1d.data.get_dataset_args()\n",
        "data = mnist1d.data.get_dataset(args, path='./mnist1d_data.pkl', download=False, regenerate=False)\n",
        "\n",
        "# The training and test input and outputs are in\n",
        "# data['x'], data['y'], data['x_test'], and data['y_test']\n",
        "print(\"Examples in training set: {}\".format(len(data['y'])))\n",
        "print(\"Examples in test set: {}\".format(len(data['y_test'])))\n",
        "print(\"Length of each example: {}\".format(data['x'].shape[-1]))"
      ]
    },
    {
      "cell_type": "code",
      "execution_count": 29,
      "metadata": {
        "id": "8bKADvLHbiV5"
      },
      "outputs": [
        {
          "name": "stdout",
          "output_type": "stream",
          "text": [
            "Train data: 4000 examples (columns), each of which has 40 dimensions (rows)\n",
            "Validation data: 1000 examples (columns), each of which has 40 dimensions (rows)\n"
          ]
        }
      ],
      "source": [
        "# Load in the data\n",
        "train_data_x = data['x'].transpose()\n",
        "train_data_y = data['y']\n",
        "val_data_x = data['x_test'].transpose()\n",
        "val_data_y = data['y_test']\n",
        "# Print out sizes\n",
        "print(\"Train data: %d examples (columns), each of which has %d dimensions (rows)\"%((train_data_x.shape[1],train_data_x.shape[0])))\n",
        "print(\"Validation data: %d examples (columns), each of which has %d dimensions (rows)\"%((val_data_x.shape[1],val_data_x.shape[0])))"
      ]
    },
    {
      "cell_type": "markdown",
      "metadata": {
        "id": "_sFvRDGrl4qe"
      },
      "source": [
        "Define the network"
      ]
    },
    {
      "cell_type": "code",
      "execution_count": 54,
      "metadata": {
        "id": "FslroPJJffrh"
      },
      "outputs": [],
      "source": [
        "# There are 40 input dimensions and 10 output dimensions for this data\n",
        "# The inputs correspond to the 40 offsets in the MNIST1D template.\n",
        "D_i = 40\n",
        "# The outputs correspond to the 10 digits\n",
        "D_o = 10\n",
        "\n",
        "\n",
        "# TODO Create a model with the following layers\n",
        "# 1. Convolutional layer, (input=length 40 and 1 channel, kernel size 3, stride 2, padding=\"valid\", 15 output channels )\n",
        "# 2. ReLU\n",
        "# 3. Convolutional layer, (input=length 19 and 15 channels, kernel size 3, stride 2, padding=\"valid\", 15 output channels )\n",
        "# 4. ReLU\n",
        "# 5. Convolutional layer, (input=length 9 and 15 channels, kernel size 3, stride 2, padding=\"valid\", 15 output channels)\n",
        "# 6. ReLU\n",
        "# 7. Flatten (converts 4x15) to length 60\n",
        "# 8. Linear layer (input size = 60, output size = 10)\n",
        "# References:\n",
        "# https://pytorch.org/docs/1.13/generated/torch.nn.Conv1d.html?highlight=conv1d#torch.nn.Conv1d\n",
        "# https://pytorch.org/docs/stable/generated/torch.nn.Flatten.html\n",
        "# https://pytorch.org/docs/1.13/generated/torch.nn.Linear.html?highlight=linear#torch.nn.Linear\n",
        "\n",
        "# NOTE THAT THE CONVOLUTIONAL LAYERS NEED TO TAKE THE NUMBER OF INPUT CHANNELS AS A PARAMETER\n",
        "# AND NOT THE INPUT SIZE.\n",
        "\n",
        "# Replace the following function:\n",
        "model = nn.Sequential(\n",
        "# nn.Flatten(),\n",
        "# nn.Linear(40, 100),\n",
        "\n",
        "nn.Conv1d(in_channels=1,out_channels=15,kernel_size=3,stride=2,padding=\"valid\"),\n",
        "nn.ReLU(),\n",
        "nn.Conv1d(in_channels=15,out_channels=15,kernel_size=3,stride=2,padding=\"valid\"),\n",
        "nn.ReLU(),\n",
        "nn.Conv1d(in_channels=15,out_channels=15,kernel_size=3,stride=2,padding=\"valid\"),\n",
        "nn.ReLU(),\n",
        "nn.Flatten(),\n",
        "nn.Linear(60, 10))\n"
      ]
    },
    {
      "cell_type": "code",
      "execution_count": 55,
      "metadata": {
        "id": "YgLaex1pfhqz"
      },
      "outputs": [],
      "source": [
        "# He initialization of weights\n",
        "def weights_init(layer_in):\n",
        "  if isinstance(layer_in, nn.Linear):\n",
        "    nn.init.kaiming_uniform_(layer_in.weight)\n",
        "    layer_in.bias.data.fill_(0.0)"
      ]
    },
    {
      "cell_type": "code",
      "execution_count": 56,
      "metadata": {
        "id": "NYw8I_3mmX5c"
      },
      "outputs": [
        {
          "name": "stdout",
          "output_type": "stream",
          "text": [
            "Epoch     0, train loss 1.938514, train error 76.68,  val loss 1.926341, percent error 78.00\n",
            "Epoch     1, train loss 1.596719, train error 63.85,  val loss 1.626580, percent error 65.90\n",
            "Epoch     2, train loss 1.439284, train error 58.62,  val loss 1.455879, percent error 61.30\n",
            "Epoch     3, train loss 1.299262, train error 52.58,  val loss 1.321209, percent error 55.60\n",
            "Epoch     4, train loss 1.251497, train error 52.05,  val loss 1.263980, percent error 51.30\n",
            "Epoch     5, train loss 1.082331, train error 43.53,  val loss 1.108353, percent error 46.10\n",
            "Epoch     6, train loss 1.063628, train error 44.08,  val loss 1.092561, percent error 45.10\n",
            "Epoch     7, train loss 0.961695, train error 38.30,  val loss 1.004953, percent error 41.60\n",
            "Epoch     8, train loss 0.898183, train error 34.65,  val loss 0.944842, percent error 37.70\n",
            "Epoch     9, train loss 0.888161, train error 33.53,  val loss 0.958955, percent error 36.90\n",
            "Epoch    10, train loss 0.767098, train error 29.75,  val loss 0.840383, percent error 32.90\n",
            "Epoch    11, train loss 0.637802, train error 24.60,  val loss 0.726449, percent error 29.70\n",
            "Epoch    12, train loss 0.581167, train error 21.85,  val loss 0.670070, percent error 27.50\n",
            "Epoch    13, train loss 0.537631, train error 20.07,  val loss 0.668937, percent error 24.10\n",
            "Epoch    14, train loss 0.539351, train error 19.82,  val loss 0.656060, percent error 24.50\n",
            "Epoch    15, train loss 0.473681, train error 18.15,  val loss 0.626565, percent error 23.00\n",
            "Epoch    16, train loss 0.325729, train error 10.90,  val loss 0.473449, percent error 16.90\n",
            "Epoch    17, train loss 0.301633, train error 10.62,  val loss 0.455208, percent error 15.20\n",
            "Epoch    18, train loss 0.304880, train error 10.55,  val loss 0.474367, percent error 15.70\n",
            "Epoch    19, train loss 0.273750, train error 9.82,  val loss 0.464845, percent error 16.40\n",
            "Epoch    20, train loss 0.198487, train error 6.93,  val loss 0.379365, percent error 12.00\n",
            "Epoch    21, train loss 0.205150, train error 7.05,  val loss 0.377377, percent error 12.00\n",
            "Epoch    22, train loss 0.168953, train error 5.97,  val loss 0.348657, percent error 10.30\n",
            "Epoch    23, train loss 0.161633, train error 5.35,  val loss 0.345193, percent error 10.60\n",
            "Epoch    24, train loss 0.151969, train error 5.32,  val loss 0.357623, percent error 10.60\n",
            "Epoch    25, train loss 0.158609, train error 5.53,  val loss 0.335782, percent error 10.90\n",
            "Epoch    26, train loss 0.153372, train error 5.35,  val loss 0.335552, percent error 10.70\n",
            "Epoch    27, train loss 0.150745, train error 5.45,  val loss 0.357216, percent error 11.20\n",
            "Epoch    28, train loss 0.132677, train error 4.62,  val loss 0.325365, percent error 9.50\n",
            "Epoch    29, train loss 0.113201, train error 3.90,  val loss 0.334054, percent error 9.90\n",
            "Epoch    30, train loss 0.103880, train error 3.53,  val loss 0.324362, percent error 9.60\n",
            "Epoch    31, train loss 0.109570, train error 3.72,  val loss 0.305924, percent error 9.40\n",
            "Epoch    32, train loss 0.108741, train error 3.72,  val loss 0.314987, percent error 9.20\n",
            "Epoch    33, train loss 0.102192, train error 3.38,  val loss 0.322921, percent error 9.60\n",
            "Epoch    34, train loss 0.115552, train error 4.35,  val loss 0.353973, percent error 10.20\n",
            "Epoch    35, train loss 0.102503, train error 3.60,  val loss 0.313374, percent error 8.60\n",
            "Epoch    36, train loss 0.095862, train error 3.38,  val loss 0.332854, percent error 9.60\n",
            "Epoch    37, train loss 0.100420, train error 3.68,  val loss 0.337473, percent error 9.70\n",
            "Epoch    38, train loss 0.086435, train error 3.15,  val loss 0.341967, percent error 9.20\n",
            "Epoch    39, train loss 0.090915, train error 3.12,  val loss 0.341120, percent error 9.70\n",
            "Epoch    40, train loss 0.064143, train error 2.05,  val loss 0.309280, percent error 8.40\n",
            "Epoch    41, train loss 0.058472, train error 1.97,  val loss 0.321276, percent error 8.60\n",
            "Epoch    42, train loss 0.060968, train error 1.88,  val loss 0.312222, percent error 9.00\n",
            "Epoch    43, train loss 0.055125, train error 1.45,  val loss 0.321664, percent error 8.90\n",
            "Epoch    44, train loss 0.053511, train error 1.45,  val loss 0.318340, percent error 9.00\n",
            "Epoch    45, train loss 0.052648, train error 1.55,  val loss 0.319594, percent error 8.80\n",
            "Epoch    46, train loss 0.051177, train error 1.30,  val loss 0.325948, percent error 8.80\n",
            "Epoch    47, train loss 0.057511, train error 1.72,  val loss 0.331256, percent error 8.60\n",
            "Epoch    48, train loss 0.050179, train error 1.22,  val loss 0.342026, percent error 9.00\n",
            "Epoch    49, train loss 0.055697, train error 1.62,  val loss 0.345560, percent error 9.10\n",
            "Epoch    50, train loss 0.046866, train error 1.18,  val loss 0.329719, percent error 9.30\n",
            "Epoch    51, train loss 0.044816, train error 1.05,  val loss 0.325065, percent error 8.70\n",
            "Epoch    52, train loss 0.042986, train error 0.93,  val loss 0.338511, percent error 8.80\n",
            "Epoch    53, train loss 0.043212, train error 0.97,  val loss 0.335164, percent error 8.70\n",
            "Epoch    54, train loss 0.047977, train error 1.30,  val loss 0.343760, percent error 8.90\n",
            "Epoch    55, train loss 0.041591, train error 0.90,  val loss 0.343890, percent error 9.10\n",
            "Epoch    56, train loss 0.041412, train error 1.05,  val loss 0.335142, percent error 8.80\n",
            "Epoch    57, train loss 0.042036, train error 1.00,  val loss 0.348161, percent error 9.20\n",
            "Epoch    58, train loss 0.037599, train error 0.78,  val loss 0.349895, percent error 9.10\n",
            "Epoch    59, train loss 0.038839, train error 0.82,  val loss 0.353818, percent error 8.70\n",
            "Epoch    60, train loss 0.034443, train error 0.50,  val loss 0.347618, percent error 8.80\n",
            "Epoch    61, train loss 0.034867, train error 0.65,  val loss 0.353922, percent error 9.30\n",
            "Epoch    62, train loss 0.033044, train error 0.55,  val loss 0.351809, percent error 8.80\n",
            "Epoch    63, train loss 0.039386, train error 0.93,  val loss 0.360306, percent error 8.80\n",
            "Epoch    64, train loss 0.035332, train error 0.70,  val loss 0.358679, percent error 9.10\n",
            "Epoch    65, train loss 0.032433, train error 0.45,  val loss 0.351247, percent error 8.60\n",
            "Epoch    66, train loss 0.033010, train error 0.62,  val loss 0.357393, percent error 8.70\n",
            "Epoch    67, train loss 0.031198, train error 0.35,  val loss 0.354973, percent error 9.00\n",
            "Epoch    68, train loss 0.031186, train error 0.40,  val loss 0.352086, percent error 8.50\n",
            "Epoch    69, train loss 0.030712, train error 0.47,  val loss 0.356154, percent error 8.60\n",
            "Epoch    70, train loss 0.030641, train error 0.38,  val loss 0.357723, percent error 8.90\n",
            "Epoch    71, train loss 0.029880, train error 0.30,  val loss 0.353607, percent error 8.70\n",
            "Epoch    72, train loss 0.029934, train error 0.38,  val loss 0.364051, percent error 8.70\n",
            "Epoch    73, train loss 0.029190, train error 0.35,  val loss 0.365464, percent error 8.70\n",
            "Epoch    74, train loss 0.028606, train error 0.32,  val loss 0.357330, percent error 8.50\n",
            "Epoch    75, train loss 0.027799, train error 0.25,  val loss 0.364353, percent error 8.80\n",
            "Epoch    76, train loss 0.028740, train error 0.38,  val loss 0.371524, percent error 8.80\n",
            "Epoch    77, train loss 0.028667, train error 0.38,  val loss 0.370742, percent error 8.70\n",
            "Epoch    78, train loss 0.026826, train error 0.25,  val loss 0.368543, percent error 8.50\n",
            "Epoch    79, train loss 0.029032, train error 0.50,  val loss 0.372873, percent error 8.50\n",
            "Epoch    80, train loss 0.026659, train error 0.22,  val loss 0.371398, percent error 8.50\n",
            "Epoch    81, train loss 0.026383, train error 0.25,  val loss 0.371349, percent error 8.70\n",
            "Epoch    82, train loss 0.025986, train error 0.25,  val loss 0.372146, percent error 8.90\n",
            "Epoch    83, train loss 0.025575, train error 0.22,  val loss 0.373002, percent error 8.70\n",
            "Epoch    84, train loss 0.025608, train error 0.22,  val loss 0.372956, percent error 8.60\n",
            "Epoch    85, train loss 0.025297, train error 0.25,  val loss 0.374907, percent error 8.60\n",
            "Epoch    86, train loss 0.025143, train error 0.22,  val loss 0.375623, percent error 8.70\n",
            "Epoch    87, train loss 0.025168, train error 0.18,  val loss 0.375612, percent error 8.60\n",
            "Epoch    88, train loss 0.025040, train error 0.22,  val loss 0.376063, percent error 8.50\n",
            "Epoch    89, train loss 0.024779, train error 0.20,  val loss 0.375081, percent error 8.50\n",
            "Epoch    90, train loss 0.024729, train error 0.25,  val loss 0.377173, percent error 8.40\n",
            "Epoch    91, train loss 0.024787, train error 0.20,  val loss 0.378158, percent error 8.90\n",
            "Epoch    92, train loss 0.024476, train error 0.25,  val loss 0.380472, percent error 8.60\n",
            "Epoch    93, train loss 0.024580, train error 0.20,  val loss 0.379458, percent error 8.90\n",
            "Epoch    94, train loss 0.024080, train error 0.20,  val loss 0.381940, percent error 8.60\n",
            "Epoch    95, train loss 0.023995, train error 0.15,  val loss 0.381561, percent error 8.60\n",
            "Epoch    96, train loss 0.023790, train error 0.25,  val loss 0.382035, percent error 8.70\n",
            "Epoch    97, train loss 0.023883, train error 0.20,  val loss 0.379392, percent error 8.60\n",
            "Epoch    98, train loss 0.023484, train error 0.18,  val loss 0.382580, percent error 8.50\n",
            "Epoch    99, train loss 0.023303, train error 0.10,  val loss 0.382224, percent error 8.70\n"
          ]
        },
        {
          "data": {
            "image/png": "[encoded data removed]",
            "text/plain": [
              "<Figure size 640x480 with 1 Axes>"
            ]
          },
          "metadata": {},
          "output_type": "display_data"
        }
      ],
      "source": [
        "# choose cross entropy loss function (equation 5.24 in the loss notes)\n",
        "loss_function = nn.CrossEntropyLoss()\n",
        "# construct SGD optimizer and initialize learning rate and momentum\n",
        "optimizer = torch.optim.SGD(model.parameters(), lr = 0.05, momentum=0.9)\n",
        "# object that decreases learning rate by half every 20 epochs\n",
        "scheduler = StepLR(optimizer, step_size=20, gamma=0.5)\n",
        "# create 100 dummy data points and store in data loader class\n",
        "x_train = torch.tensor(train_data_x.transpose().astype('float32'))\n",
        "y_train = torch.tensor(train_data_y.astype('long')).long()\n",
        "x_val= torch.tensor(val_data_x.transpose().astype('float32'))\n",
        "y_val = torch.tensor(val_data_y.astype('long')).long()\n",
        "\n",
        "# load the data into a class that creates the batches\n",
        "data_loader = DataLoader(TensorDataset(x_train,y_train), batch_size=100, shuffle=True, worker_init_fn=np.random.seed(1))\n",
        "\n",
        "# Initialize model weights\n",
        "model.apply(weights_init)\n",
        "\n",
        "# loop over the dataset n_epoch times\n",
        "n_epoch = 100\n",
        "# store the loss and the % correct at each epoch\n",
        "losses_train = np.zeros((n_epoch))\n",
        "errors_train = np.zeros((n_epoch))\n",
        "losses_val = np.zeros((n_epoch))\n",
        "errors_val = np.zeros((n_epoch))\n",
        "\n",
        "for epoch in range(n_epoch):\n",
        "  # loop over batches\n",
        "  for i, data in enumerate(data_loader):\n",
        "    # retrieve inputs and labels for this batch\n",
        "    x_batch, y_batch = data\n",
        "    # zero the parameter gradients\n",
        "    optimizer.zero_grad()\n",
        "    # forward pass -- calculate model output\n",
        "    pred = model(x_batch[:,None,:])\n",
        "    # compute the loss\n",
        "    loss = loss_function(pred, y_batch)\n",
        "    # backward pass\n",
        "    loss.backward()\n",
        "    # SGD update\n",
        "    optimizer.step()\n",
        "\n",
        "  # Run whole dataset to get statistics -- normally wouldn't do this\n",
        "  pred_train = model(x_train[:,None,:])\n",
        "  pred_val = model(x_val[:,None,:])\n",
        "  _, predicted_train_class = torch.max(pred_train.data, 1)\n",
        "  _, predicted_val_class = torch.max(pred_val.data, 1)\n",
        "  errors_train[epoch] = 100 - 100 * (predicted_train_class == y_train).float().sum() / len(y_train)\n",
        "  errors_val[epoch]= 100 - 100 * (predicted_val_class == y_val).float().sum() / len(y_val)\n",
        "  losses_train[epoch] = loss_function(pred_train, y_train).item()\n",
        "  losses_val[epoch]= loss_function(pred_val, y_val).item()\n",
        "  print(f'Epoch {epoch:5d}, train loss {losses_train[epoch]:.6f}, train error {errors_train[epoch]:3.2f},  val loss {losses_val[epoch]:.6f}, percent error {errors_val[epoch]:3.2f}')\n",
        "\n",
        "  # tell scheduler to consider updating learning rate\n",
        "  scheduler.step()\n",
        "\n",
        "# Plot the results\n",
        "fig, ax = plt.subplots()\n",
        "ax.plot(errors_train,'r-',label='train')\n",
        "ax.plot(errors_val,'b-',label='validation')\n",
        "ax.set_ylim(0,100); ax.set_xlim(0,n_epoch)\n",
        "ax.set_xlabel('Epoch'); ax.set_ylabel('Error')\n",
        "ax.set_title('Part I: Validation Result %3.2f'%(errors_val[-1]))\n",
        "ax.legend()\n",
        "plt.show()"
      ]
    }
  ],
  "metadata": {
    "colab": {
      "authorship_tag": "ABX9TyNJodaaCLMRWL9vTl8B/iLI",
      "include_colab_link": true,
      "provenance": []
    },
    "kernelspec": {
      "display_name": "Python 3",
      "name": "python3"
    },
    "language_info": {
      "codemirror_mode": {
        "name": "ipython",
        "version": 3
      },
      "file_extension": ".py",
      "mimetype": "text/x-python",
      "name": "python",
      "nbconvert_exporter": "python",
      "pygments_lexer": "ipython3",
      "version": "3.12.2"
    }
  },
  "nbformat": 4,
  "nbformat_minor": 0
}
